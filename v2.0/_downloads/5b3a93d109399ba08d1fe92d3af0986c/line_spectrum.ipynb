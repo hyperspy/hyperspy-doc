{
  "cells": [
    {
      "cell_type": "markdown",
      "metadata": {},
      "source": [
        "\n# Creates a line spectrum\n\nThis example creates a line spectrum and plots it.\n"
      ]
    },
    {
      "cell_type": "code",
      "execution_count": null,
      "metadata": {
        "collapsed": false
      },
      "outputs": [],
      "source": [
        "import numpy as np\nimport hyperspy.api as hs\n\n# Create a line spectrum with random data\ns = hs.signals.Signal1D(np.random.random((100, 1024)))\n\n# Define the axis properties\ns.axes_manager.signal_axes[0].name = 'Energy'\ns.axes_manager.signal_axes[0].units = 'eV'\ns.axes_manager.signal_axes[0].scale = 0.3\ns.axes_manager.signal_axes[0].offset = 100\n\ns.axes_manager.navigation_axes[0].name = 'time'\ns.axes_manager.navigation_axes[0].units = 'fs'\ns.axes_manager.navigation_axes[0].scale = 0.3\ns.axes_manager.navigation_axes[0].offset = 100\n\n# Give a title\ns.metadata.General.title = 'Random line spectrum'\n\n# Plot it\ns.plot()"
      ]
    }
  ],
  "metadata": {
    "kernelspec": {
      "display_name": "Python 3",
      "language": "python",
      "name": "python3"
    },
    "language_info": {
      "codemirror_mode": {
        "name": "ipython",
        "version": 3
      },
      "file_extension": ".py",
      "mimetype": "text/x-python",
      "name": "python",
      "nbconvert_exporter": "python",
      "pygments_lexer": "ipython3",
      "version": "3.11.7"
    }
  },
  "nbformat": 4,
  "nbformat_minor": 0
}