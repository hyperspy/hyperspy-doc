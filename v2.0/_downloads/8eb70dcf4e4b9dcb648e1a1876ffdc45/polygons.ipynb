{
  "cells": [
    {
      "cell_type": "markdown",
      "metadata": {},
      "source": [
        "\n# Polygon  Markers\n"
      ]
    },
    {
      "cell_type": "markdown",
      "metadata": {},
      "source": [
        "Create a signal\n\n"
      ]
    },
    {
      "cell_type": "code",
      "execution_count": null,
      "metadata": {
        "collapsed": false
      },
      "outputs": [],
      "source": [
        "import hyperspy.api as hs\nimport matplotlib.pyplot as plt\nimport numpy as np\n\n# Create a Signal2D with 2 navigation dimensions\nrng = np.random.default_rng(0)\ndata = np.ones((25, 25, 100, 100))\ns = hs.signals.Signal2D(data)"
      ]
    },
    {
      "cell_type": "markdown",
      "metadata": {},
      "source": [
        "This first example shows how to draw static polygon markers using the matplotlib\nPolygonCollection\n\n"
      ]
    },
    {
      "cell_type": "code",
      "execution_count": null,
      "metadata": {
        "collapsed": false
      },
      "outputs": [],
      "source": [
        "# Define the vertexes of the polygons\n# poylgon1: [[x0, y0], [x1, y1], [x2, y2], [x3, x3]]\n# poylgon2: [[x0, y0], [x1, y1], [x2, y2]]\n# ...\npoylgon1 = [[1, 1], [20, 20], [1, 20], [25, 5]]\npoylgon2 = [[50, 60], [90, 40], [60, 40], [23, 60]]\n\nverts = [poylgon1, poylgon2]\n\nm = hs.plot.markers.Polygons(\n    verts=verts,\n    linewidth=3,\n    facecolors=('g',),\n    )\n\ns.plot()\ns.add_marker(m)"
      ]
    },
    {
      "cell_type": "markdown",
      "metadata": {},
      "source": [
        "## Dynamic Polygon Markers\n\nThis example shows how to draw dynamic polygon markers, whose position\ndepends on the navigation coordinates\n\n"
      ]
    },
    {
      "cell_type": "code",
      "execution_count": null,
      "metadata": {
        "collapsed": false
      },
      "outputs": [],
      "source": [
        "verts = np.empty(s.axes_manager.navigation_shape, dtype=object)\nfor ind in np.ndindex(verts.shape):\n    verts[ind] = rng.random((10, 4, 2)) * 100\n\n# Get list of colors\ncolors = list(plt.rcParams['axes.prop_cycle'].by_key()['color'])\n\nm = hs.plot.markers.Polygons(\n    verts=verts,\n    facecolors=colors,\n    linewidth=3,\n    alpha=0.6\n)\ns.plot()\ns.add_marker(m)"
      ]
    },
    {
      "cell_type": "markdown",
      "metadata": {},
      "source": [
        "sphinx_gallery_thumbnail_number = 2\n\n"
      ]
    }
  ],
  "metadata": {
    "kernelspec": {
      "display_name": "Python 3",
      "language": "python",
      "name": "python3"
    },
    "language_info": {
      "codemirror_mode": {
        "name": "ipython",
        "version": 3
      },
      "file_extension": ".py",
      "mimetype": "text/x-python",
      "name": "python",
      "nbconvert_exporter": "python",
      "pygments_lexer": "ipython3",
      "version": "3.11.8"
    }
  },
  "nbformat": 4,
  "nbformat_minor": 0
}