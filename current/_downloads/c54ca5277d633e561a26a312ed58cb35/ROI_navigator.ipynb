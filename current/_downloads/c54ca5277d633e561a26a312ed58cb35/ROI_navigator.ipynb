{
  "cells": [
    {
      "cell_type": "markdown",
      "metadata": {},
      "source": [
        "\n# Navigator ROI\n\nUse a RectangularROI to take the sum of an area of the navigation space.\n"
      ]
    },
    {
      "cell_type": "code",
      "execution_count": null,
      "metadata": {
        "collapsed": false
      },
      "outputs": [],
      "source": [
        "import hyperspy.api as hs"
      ]
    },
    {
      "cell_type": "markdown",
      "metadata": {},
      "source": [
        "Create a signal:\n\n"
      ]
    },
    {
      "cell_type": "code",
      "execution_count": null,
      "metadata": {
        "collapsed": false
      },
      "outputs": [],
      "source": [
        "s = hs.data.two_gaussians()"
      ]
    },
    {
      "cell_type": "markdown",
      "metadata": {},
      "source": [
        "Create the roi, here a :py:class:`~.api.roi.RectangularROI` for the two dimension navigation space:\n\n"
      ]
    },
    {
      "cell_type": "code",
      "execution_count": null,
      "metadata": {
        "collapsed": false
      },
      "outputs": [],
      "source": [
        "roi = hs.roi.RectangularROI()"
      ]
    },
    {
      "cell_type": "markdown",
      "metadata": {},
      "source": [
        "Slice signal with roi with the ROI. By using the `interactive` function, the\noutput signal ``s_roi`` will update automatically.\nThe ROI will be added automatically on the signal figure.\n\nBy default, the ROI will be added to the navigation or signal. We specify\n``recompute_out_event=None`` to avoid redundant computation when changing the ROI\n\n"
      ]
    },
    {
      "cell_type": "code",
      "execution_count": null,
      "metadata": {
        "collapsed": false
      },
      "outputs": [],
      "source": [
        "s.plot()\ns_roi = roi.interactive(s, recompute_out_event=None, color='C1')\n\n# We use :py:class:`~.interactive` function to compute the sum over the ROI interactively:\n\nroi_sum = hs.interactive(s_roi.sum, recompute_out_event=None)\n\n# Choose the second figure as gallery thumbnail:\n# sphinx_gallery_thumbnail_number = 1"
      ]
    },
    {
      "cell_type": "markdown",
      "metadata": {},
      "source": [
        "Plot the signal sliced by the ROI:\n\n"
      ]
    },
    {
      "cell_type": "code",
      "execution_count": null,
      "metadata": {
        "collapsed": false
      },
      "outputs": [],
      "source": [
        "roi_sum.plot()"
      ]
    }
  ],
  "metadata": {
    "kernelspec": {
      "display_name": "Python 3",
      "language": "python",
      "name": "python3"
    },
    "language_info": {
      "codemirror_mode": {
        "name": "ipython",
        "version": 3
      },
      "file_extension": ".py",
      "mimetype": "text/x-python",
      "name": "python",
      "nbconvert_exporter": "python",
      "pygments_lexer": "ipython3",
      "version": "3.11.9"
    }
  },
  "nbformat": 4,
  "nbformat_minor": 0
}