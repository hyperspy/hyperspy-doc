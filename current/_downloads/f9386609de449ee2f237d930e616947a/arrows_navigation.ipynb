{
  "cells": [
    {
      "cell_type": "markdown",
      "metadata": {},
      "source": [
        "\n# Arrow markers\n"
      ]
    },
    {
      "cell_type": "markdown",
      "metadata": {},
      "source": [
        "Create a signal\n\n"
      ]
    },
    {
      "cell_type": "code",
      "execution_count": null,
      "metadata": {
        "collapsed": false
      },
      "outputs": [],
      "source": [
        "import hyperspy.api as hs\nimport numpy as np\n\n# Create a Signal2D with 2 navigation dimensions\nrng = np.random.default_rng(0)\ndata = np.ones((50, 100, 100))\ns = hs.signals.Signal2D(data)\n\nfor axis in s.axes_manager.signal_axes:\n    axis.scale = 2*np.pi / 100"
      ]
    },
    {
      "cell_type": "markdown",
      "metadata": {},
      "source": [
        "## Dynamic Arrow Markers: Changing Length\n\nThe first example shows how to change the length of the arrows when changing\nthe navigation coordinates\n\n"
      ]
    },
    {
      "cell_type": "code",
      "execution_count": null,
      "metadata": {
        "collapsed": false
      },
      "outputs": [],
      "source": [
        "X, Y = np.meshgrid(np.arange(0, 2 * np.pi, .2), np.arange(0, 2 * np.pi, .2))\noffsets = np.column_stack((X.ravel(), Y.ravel()))\n\nweight = np.cos(np.linspace(0, 4*np.pi, num=50))\n\nU = np.empty(s.axes_manager.navigation_shape, dtype=object)\nV = np.empty(s.axes_manager.navigation_shape, dtype=object)\nC = np.empty(s.axes_manager.navigation_shape, dtype=object)\nfor ind in np.ndindex(U.shape):\n    U[ind] = np.cos(X).ravel() / 7.5 * weight[ind]\n    V[ind] = np.sin(Y).ravel() / 7.5 * weight[ind]\n    C[ind] = np.hypot(U[ind], V[ind])\n\nm = hs.plot.markers.Arrows(\n    offsets,\n    U,\n    V,\n    C=C\n    )\n\ns.plot()\ns.add_marker(m)"
      ]
    },
    {
      "cell_type": "markdown",
      "metadata": {},
      "source": [
        "## Dynamic Arrow Markers: Changing Position\n\nThe second example shows how to change the position of the arrows when changing\nthe navigation coordinates\n\n"
      ]
    },
    {
      "cell_type": "code",
      "execution_count": null,
      "metadata": {
        "collapsed": false
      },
      "outputs": [],
      "source": [
        "X, Y = np.meshgrid(np.arange(0, 2 * np.pi, .2), np.arange(0, 2 * np.pi, .2))\nU = np.cos(X).ravel() / 7.5\nV = np.sin(Y).ravel() / 7.5\nC = np.hypot(U, V)\n\nweight_x = np.sin(np.linspace(0, 2*np.pi, num=50))\nweight_y = np.cos(np.linspace(0, 2*np.pi, num=50))\n\noffsets = np.empty(s.axes_manager.navigation_shape, dtype=object)\nfor ind in np.ndindex(offsets.shape):\n    offsets[ind] = np.column_stack((X.ravel() + weight_x[ind], Y.ravel() + weight_y[ind]))\n\nm = hs.plot.markers.Arrows(\n    offsets,\n    U,\n    V,\n    C=C\n    )\n\ns.plot()\ns.add_marker(m)"
      ]
    },
    {
      "cell_type": "markdown",
      "metadata": {},
      "source": [
        "sphinx_gallery_thumbnail_number = 2\n\n"
      ]
    }
  ],
  "metadata": {
    "kernelspec": {
      "display_name": "Python 3",
      "language": "python",
      "name": "python3"
    },
    "language_info": {
      "codemirror_mode": {
        "name": "ipython",
        "version": 3
      },
      "file_extension": ".py",
      "mimetype": "text/x-python",
      "name": "python",
      "nbconvert_exporter": "python",
      "pygments_lexer": "ipython3",
      "version": "3.11.8"
    }
  },
  "nbformat": 4,
  "nbformat_minor": 0
}