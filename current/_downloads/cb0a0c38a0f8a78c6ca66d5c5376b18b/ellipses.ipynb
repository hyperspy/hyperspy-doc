{
  "cells": [
    {
      "cell_type": "markdown",
      "metadata": {},
      "source": [
        "\n# Ellipse markers\n"
      ]
    },
    {
      "cell_type": "markdown",
      "metadata": {},
      "source": [
        "Create a signal\n\n"
      ]
    },
    {
      "cell_type": "code",
      "execution_count": null,
      "metadata": {
        "collapsed": false
      },
      "outputs": [],
      "source": [
        "import hyperspy.api as hs\nimport numpy as np\n\n# Create a Signal2D with 2 navigation dimensions\nrng = np.random.default_rng(0)\ndata = np.ones((25, 25, 100, 100))\ns = hs.signals.Signal2D(data)"
      ]
    },
    {
      "cell_type": "markdown",
      "metadata": {},
      "source": [
        "This first example shows how to draw static ellipses\n\n"
      ]
    },
    {
      "cell_type": "code",
      "execution_count": null,
      "metadata": {
        "collapsed": false
      },
      "outputs": [],
      "source": [
        "# Define the position of the ellipses\noffsets = rng.random((10, 2)) * 100\n\nm = hs.plot.markers.Ellipses(\n    widths=(8,),\n    heights=(10,),\n    angles=(45,),\n    offsets=offsets,\n    facecolor=\"red\",\n    )\n\ns.plot()\ns.add_marker(m)"
      ]
    },
    {
      "cell_type": "markdown",
      "metadata": {},
      "source": [
        "## Dynamic Ellipse Markers\n\nThis first example shows how to draw dynamic ellipses, whose position, widths\nheights and angles depends on the navigation coordinates\n\n"
      ]
    },
    {
      "cell_type": "code",
      "execution_count": null,
      "metadata": {
        "collapsed": false
      },
      "outputs": [],
      "source": [
        "s2 = hs.signals.Signal2D(data)\n\nwidths = np.empty(s.axes_manager.navigation_shape, dtype=object)\nheights = np.empty(s.axes_manager.navigation_shape, dtype=object)\nangles = np.empty(s.axes_manager.navigation_shape, dtype=object)\noffsets = np.empty(s.axes_manager.navigation_shape, dtype=object)\n\nfor index in np.ndindex(offsets.shape):\n    widths[index] = rng.random((10, )) * 10\n    heights[index] = rng.random((10, )) * 7\n    angles[index] = rng.random((10, )) * 180\n    offsets[index] = rng.random((10, 2)) * 100\n\n\nm = hs.plot.markers.Ellipses(\n    widths=widths,\n    heights=heights,\n    angles=angles,\n    offsets=offsets,\n    facecolor=\"red\",\n    )\n\ns2.plot()\ns2.add_marker(m)"
      ]
    },
    {
      "cell_type": "markdown",
      "metadata": {},
      "source": [
        "sphinx_gallery_thumbnail_number = 2\n\n"
      ]
    }
  ],
  "metadata": {
    "kernelspec": {
      "display_name": "Python 3",
      "language": "python",
      "name": "python3"
    },
    "language_info": {
      "codemirror_mode": {
        "name": "ipython",
        "version": 3
      },
      "file_extension": ".py",
      "mimetype": "text/x-python",
      "name": "python",
      "nbconvert_exporter": "python",
      "pygments_lexer": "ipython3",
      "version": "3.11.7"
    }
  },
  "nbformat": 4,
  "nbformat_minor": 0
}