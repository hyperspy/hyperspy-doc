{
  "cells": [
    {
      "cell_type": "markdown",
      "metadata": {},
      "source": [
        "\n# Filled Circle Markers\n"
      ]
    },
    {
      "cell_type": "markdown",
      "metadata": {},
      "source": [
        "Create a signal\n\n"
      ]
    },
    {
      "cell_type": "code",
      "execution_count": null,
      "metadata": {
        "collapsed": false
      },
      "outputs": [],
      "source": [
        "import hyperspy.api as hs\nimport matplotlib as mpl\nimport numpy as np\n\n# Create a Signal2D with 2 navigation dimensions\nrng = np.random.default_rng(0)\ndata = np.ones((25, 25, 100, 100))\ns = hs.signals.Signal2D(data)"
      ]
    },
    {
      "cell_type": "markdown",
      "metadata": {},
      "source": [
        "This first example shows how to draw static filled circles\n\n"
      ]
    },
    {
      "cell_type": "code",
      "execution_count": null,
      "metadata": {
        "collapsed": false
      },
      "outputs": [],
      "source": [
        "# Define the position of the circles\noffsets = rng.random((10, 2)) * 100\n\nm = hs.plot.markers.Points(\n    sizes=20,\n    offsets=offsets,\n    facecolors=\"red\",\n    )\n\ns.plot()\ns.add_marker(m)"
      ]
    },
    {
      "cell_type": "markdown",
      "metadata": {},
      "source": [
        "## Dynamic Filled Circle Markers\n\nThis second example shows how to draw dynamic filled circles, whose size,\ncolor and position change depending on the navigation position\n\n"
      ]
    },
    {
      "cell_type": "code",
      "execution_count": null,
      "metadata": {
        "collapsed": false
      },
      "outputs": [],
      "source": [
        "s2 = hs.signals.Signal2D(data)\n\noffsets = np.empty(s.axes_manager.navigation_shape, dtype=object)\nsizes = np.empty(s.axes_manager.navigation_shape, dtype=object)\ncolors = list(mpl.colors.TABLEAU_COLORS.values())[:10]\n\nfor ind in np.ndindex(offsets.shape):\n    offsets[ind] = rng.random((10, 2)) * 100\n    sizes[ind] = rng.random((10, )) * 50\n\nm = hs.plot.markers.Points(\n    sizes=sizes,\n    offsets=offsets,\n    facecolors=colors,\n    )\n\ns2.plot()\ns2.add_marker(m)"
      ]
    },
    {
      "cell_type": "markdown",
      "metadata": {},
      "source": [
        "sphinx_gallery_thumbnail_number = 2\n\n"
      ]
    }
  ],
  "metadata": {
    "kernelspec": {
      "display_name": "Python 3",
      "language": "python",
      "name": "python3"
    },
    "language_info": {
      "codemirror_mode": {
        "name": "ipython",
        "version": 3
      },
      "file_extension": ".py",
      "mimetype": "text/x-python",
      "name": "python",
      "nbconvert_exporter": "python",
      "pygments_lexer": "ipython3",
      "version": "3.11.8"
    }
  },
  "nbformat": 4,
  "nbformat_minor": 0
}