{
  "cells": [
    {
      "cell_type": "markdown",
      "metadata": {},
      "source": [
        "\n# Export single spectrum\n\nCreates a single spectrum image, saves it and plots it:\n\n1. Create a single sprectrum using `Signal1D` signal.\n2. Save signal as a msa file\n3. Plot the signal using the `plot` method\n4. Save the figure as a png file\n"
      ]
    },
    {
      "cell_type": "code",
      "execution_count": null,
      "metadata": {
        "collapsed": false
      },
      "outputs": [],
      "source": [
        "# Set the matplotlib backend of your choice, for example\n# %matploltib qt\nimport hyperspy.api as hs\nimport numpy as np\n\ns = hs.signals.Signal1D(np.random.rand(1024))\n\n# Export as msa file, very similar to a csv file but containing standardised\n# metadata\ns.save('testSpectrum.msa', overwrite=True)\n\n# Plot it\ns.plot()"
      ]
    }
  ],
  "metadata": {
    "kernelspec": {
      "display_name": "Python 3",
      "language": "python",
      "name": "python3"
    },
    "language_info": {
      "codemirror_mode": {
        "name": "ipython",
        "version": 3
      },
      "file_extension": ".py",
      "mimetype": "text/x-python",
      "name": "python",
      "nbconvert_exporter": "python",
      "pygments_lexer": "ipython3",
      "version": "3.11.10"
    }
  },
  "nbformat": 4,
  "nbformat_minor": 0
}