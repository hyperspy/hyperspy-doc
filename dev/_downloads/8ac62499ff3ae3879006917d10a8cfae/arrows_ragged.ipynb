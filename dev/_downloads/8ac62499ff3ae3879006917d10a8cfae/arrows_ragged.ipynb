{
  "cells": [
    {
      "cell_type": "markdown",
      "metadata": {},
      "source": [
        "\n# Varying number of arrows per navigation position\n"
      ]
    },
    {
      "cell_type": "markdown",
      "metadata": {},
      "source": [
        "Create a signal\n\n"
      ]
    },
    {
      "cell_type": "code",
      "execution_count": null,
      "metadata": {
        "collapsed": false
      },
      "outputs": [],
      "source": [
        "import hyperspy.api as hs\nimport numpy as np\n\n# Create a Signal2D with 2 navigation dimensions\nrng = np.random.default_rng(0)\ndata = np.ones((10, 100, 100))\ns = hs.signals.Signal2D(data)\n\nfor axis in s.axes_manager.signal_axes:\n    axis.scale = 2*np.pi / 100\n\n# Select navigation position 5\ns.axes_manager.indices = (5, )"
      ]
    },
    {
      "cell_type": "markdown",
      "metadata": {},
      "source": [
        "## Dynamic Arrow Markers: Changing Length\n\nThis example shows how to use the Arrows marker with a varying number of\narrows per navigation position\n\n"
      ]
    },
    {
      "cell_type": "code",
      "execution_count": null,
      "metadata": {
        "collapsed": false
      },
      "outputs": [],
      "source": [
        "# Define the position of the arrows, use ragged array to enable the navigation\n# position dependence\noffsets= np.empty(s.axes_manager.navigation_shape, dtype=object)\nU = np.empty(s.axes_manager.navigation_shape, dtype=object)\nV = np.empty(s.axes_manager.navigation_shape, dtype=object)\nfor ind in np.ndindex(U.shape):\n    offsets[ind] = rng.random((ind[0]+1, 2)) * 6\n    U[ind] = rng.random(ind[0]+1) * 2\n    V[ind] = rng.random(ind[0]+1) * 2\n\nm = hs.plot.markers.Arrows(\n    offsets,\n    U,\n    V,\n    )\n\ns.plot()\ns.add_marker(m)"
      ]
    },
    {
      "cell_type": "markdown",
      "metadata": {},
      "source": [
        "sphinx_gallery_thumbnail_number = 2\n\n"
      ]
    }
  ],
  "metadata": {
    "kernelspec": {
      "display_name": "Python 3",
      "language": "python",
      "name": "python3"
    },
    "language_info": {
      "codemirror_mode": {
        "name": "ipython",
        "version": 3
      },
      "file_extension": ".py",
      "mimetype": "text/x-python",
      "name": "python",
      "nbconvert_exporter": "python",
      "pygments_lexer": "ipython3",
      "version": "3.10.13"
    }
  },
  "nbformat": 4,
  "nbformat_minor": 0
}