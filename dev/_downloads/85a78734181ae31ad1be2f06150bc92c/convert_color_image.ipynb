{
  "cells": [
    {
      "cell_type": "markdown",
      "metadata": {},
      "source": [
        "\n# Adjust contrast and save RGB images\n\nThis example shows how to adjust the contrast and intensities using\nscikit-image and save it as an RGB image.\n\nWhen saving an RGB image to ``jpg``, only 8 bits are supported and the image\nintensity needs to be rescaled to 0-255 before converting to 8 bits,\notherwise, the intensities will be cropped at the value of 255.\n"
      ]
    },
    {
      "cell_type": "code",
      "execution_count": null,
      "metadata": {
        "collapsed": false
      },
      "outputs": [],
      "source": [
        "import hyperspy.api as hs\nimport numpy as np\nimport skimage as ski"
      ]
    },
    {
      "cell_type": "markdown",
      "metadata": {},
      "source": [
        "## Adjust contrast\n\nIn hyperspy, color images are defined as Signal1D with the signal dimension\ncorresponding to the color channel (red, green and blue)\n\n"
      ]
    },
    {
      "cell_type": "code",
      "execution_count": null,
      "metadata": {
        "collapsed": false
      },
      "outputs": [],
      "source": [
        "# The dtype can be changed to a custom dtype, which is convenient to visualise\n# the color image\ns = hs.signals.Signal1D(ski.data.astronaut())\ns.change_dtype(\"rgb8\")\nprint(s)"
      ]
    },
    {
      "cell_type": "markdown",
      "metadata": {},
      "source": [
        "Display the color image\n\n"
      ]
    },
    {
      "cell_type": "code",
      "execution_count": null,
      "metadata": {
        "collapsed": false
      },
      "outputs": [],
      "source": [
        "s.plot()"
      ]
    },
    {
      "cell_type": "markdown",
      "metadata": {},
      "source": [
        "Processing is usually performed on standard dtype (e.g. ``uint8``, ``uint16``), because\nmost functions from scikit-image, numpy, scipy, etc. only support standard ``dtype``.\nConvert from RGB to unsigned integer 16 bits\n\n"
      ]
    },
    {
      "cell_type": "code",
      "execution_count": null,
      "metadata": {
        "collapsed": false
      },
      "outputs": [],
      "source": [
        "s.change_dtype(\"uint8\")\nprint(s)"
      ]
    },
    {
      "cell_type": "markdown",
      "metadata": {},
      "source": [
        "Adjust contrast (gamma correction)\n\n"
      ]
    },
    {
      "cell_type": "code",
      "execution_count": null,
      "metadata": {
        "collapsed": false
      },
      "outputs": [],
      "source": [
        "s.data = ski.exposure.adjust_gamma(s.data, gamma=0.2)"
      ]
    },
    {
      "cell_type": "markdown",
      "metadata": {},
      "source": [
        "## Save to ``jpg``\n\nChange dtype back to custom dtype ``rgb8``\n\n"
      ]
    },
    {
      "cell_type": "code",
      "execution_count": null,
      "metadata": {
        "collapsed": false
      },
      "outputs": [],
      "source": [
        "s.change_dtype(\"rgb8\")"
      ]
    },
    {
      "cell_type": "markdown",
      "metadata": {},
      "source": [
        "Save as jpg\n\n"
      ]
    },
    {
      "cell_type": "code",
      "execution_count": null,
      "metadata": {
        "collapsed": false
      },
      "outputs": [],
      "source": [
        "s.save(\"rgb8_image.jpg\", overwrite=True)"
      ]
    },
    {
      "cell_type": "markdown",
      "metadata": {},
      "source": [
        "## Save ``rgb16`` image to ``jpg``\n\nThe last part of this example shows how to save ``rgb16`` to a ``jpg`` file\n\nCreate a signal with ``rgb16`` dtype\n\n"
      ]
    },
    {
      "cell_type": "code",
      "execution_count": null,
      "metadata": {
        "collapsed": false
      },
      "outputs": [],
      "source": [
        "s2 = hs.signals.Signal1D(ski.data.astronaut().astype(\"uint16\") * 100)"
      ]
    },
    {
      "cell_type": "markdown",
      "metadata": {},
      "source": [
        "To save a color image to ``jpg``, the signal needs to be converted to ``rgb8`` because\n``jpg`` only support 8-bit RGB\nRescale intensity to fit the unsigned integer 8 bits (2**8 = 256 intensity level)\n\n"
      ]
    },
    {
      "cell_type": "code",
      "execution_count": null,
      "metadata": {
        "collapsed": false
      },
      "outputs": [],
      "source": [
        "s2.data = ski.exposure.rescale_intensity(s2.data, out_range=(0, 255))"
      ]
    },
    {
      "cell_type": "markdown",
      "metadata": {},
      "source": [
        "Now that the values have been rescaled to the 0-255 range, we can convert the data type\nto unsigned integer 8 bit and then ``rgb8`` to be able to save the RGB image in ``jpg`` format\n\n"
      ]
    },
    {
      "cell_type": "code",
      "execution_count": null,
      "metadata": {
        "collapsed": false
      },
      "outputs": [],
      "source": [
        "s2.change_dtype(\"uint8\")\ns2.change_dtype(\"rgb8\")\ns2.save(\"rgb16_image_saved_as_jpg.jpg\", overwrite=True)"
      ]
    }
  ],
  "metadata": {
    "kernelspec": {
      "display_name": "Python 3",
      "language": "python",
      "name": "python3"
    },
    "language_info": {
      "codemirror_mode": {
        "name": "ipython",
        "version": 3
      },
      "file_extension": ".py",
      "mimetype": "text/x-python",
      "name": "python",
      "nbconvert_exporter": "python",
      "pygments_lexer": "ipython3",
      "version": "3.11.10"
    }
  },
  "nbformat": 4,
  "nbformat_minor": 0
}