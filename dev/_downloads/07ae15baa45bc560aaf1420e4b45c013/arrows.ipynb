{
  "cells": [
    {
      "cell_type": "markdown",
      "metadata": {},
      "source": [
        "\n# Arrow markers\n"
      ]
    },
    {
      "cell_type": "markdown",
      "metadata": {},
      "source": [
        "Create a signal\n\n"
      ]
    },
    {
      "cell_type": "code",
      "execution_count": null,
      "metadata": {
        "collapsed": false
      },
      "outputs": [],
      "source": [
        "import hyperspy.api as hs\nimport numpy as np\n\n# Create a Signal2D with 2 navigation dimensions\nrng = np.random.default_rng(0)\ndata = np.ones((50, 100, 100))\ns = hs.signals.Signal2D(data)\n\nfor axis in s.axes_manager.signal_axes:\n    axis.scale = 2*np.pi / 100"
      ]
    },
    {
      "cell_type": "markdown",
      "metadata": {},
      "source": [
        "This example shows how to draw arrows\n\n"
      ]
    },
    {
      "cell_type": "code",
      "execution_count": null,
      "metadata": {
        "collapsed": false
      },
      "outputs": [],
      "source": [
        "# Define the position of the arrows\nX, Y = np.meshgrid(np.arange(0, 2 * np.pi, .2), np.arange(0, 2 * np.pi, .2))\noffsets = np.column_stack((X.ravel(), Y.ravel()))\nU = np.cos(X).ravel() / 7.5\nV = np.sin(Y).ravel() / 7.5\nC = np.hypot(U, V)\n\nm = hs.plot.markers.Arrows(offsets, U, V, C=C)\ns.plot()\ns.add_marker(m)"
      ]
    },
    {
      "cell_type": "markdown",
      "metadata": {},
      "source": [
        "sphinx_gallery_thumbnail_number = 2\n\n"
      ]
    }
  ],
  "metadata": {
    "kernelspec": {
      "display_name": "Python 3",
      "language": "python",
      "name": "python3"
    },
    "language_info": {
      "codemirror_mode": {
        "name": "ipython",
        "version": 3
      },
      "file_extension": ".py",
      "mimetype": "text/x-python",
      "name": "python",
      "nbconvert_exporter": "python",
      "pygments_lexer": "ipython3",
      "version": "3.11.10"
    }
  },
  "nbformat": 4,
  "nbformat_minor": 0
}