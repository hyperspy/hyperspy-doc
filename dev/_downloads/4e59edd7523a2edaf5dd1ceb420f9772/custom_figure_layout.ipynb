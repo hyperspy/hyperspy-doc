{
  "cells": [
    {
      "cell_type": "markdown",
      "metadata": {},
      "source": [
        "\n# Creating Custom Layouts\n\nCustom layouts for hyperspy figures can be created using the :class:`matplotlib.figure.SubFigure` class. Passing\nthe ``fig`` argument to the :meth:`~.api.signals.BaseSignal.plot` method of a hyperspy signal object will target\nthat figure instead of creating a new one. This is useful for creating custom layouts with multiple subplots.\n"
      ]
    },
    {
      "cell_type": "code",
      "execution_count": null,
      "metadata": {
        "collapsed": false
      },
      "outputs": [],
      "source": [
        "# Creating a simple layout with two subplots\n\nimport matplotlib.pyplot as plt\nimport hyperspy.api as hs\nimport numpy as np\n\nrng = np.random.default_rng()\ns = hs.signals.Signal2D(rng.random((10, 10, 10, 10)))\nfig = plt.figure(figsize=(10, 5), layout=\"constrained\")\nsubfigs = fig.subfigures(1, 2, wspace=0.07)\ns.plot(navigator_kwds=dict(fig=subfigs[0]), fig=subfigs[1])"
      ]
    },
    {
      "cell_type": "code",
      "execution_count": null,
      "metadata": {
        "collapsed": false
      },
      "outputs": [],
      "source": [
        "# Sharing a navigator between two hyperspy signals\n\ns = hs.signals.Signal2D(rng.random((10, 10, 10, 10)))\ns2 = hs.signals.Signal2D(rng.random((10, 10, 50, 50)))\n\nfig = plt.figure(figsize=(8, 7), layout=\"constrained\")\nhead_figures = fig.subfigures(1, 2, wspace=0.07)\nsignal_figures = head_figures[1].subfigures(2, 1, hspace=0.07)\ns.plot(navigator_kwds=dict(fig=head_figures[0], colorbar=None), fig=signal_figures[0])\ns2.plot(navigator=None, fig=signal_figures[1], axes_manager=s.axes_manager)"
      ]
    },
    {
      "cell_type": "markdown",
      "metadata": {},
      "source": [
        "sphinx_gallery_thumbnail_number = 2\n\n"
      ]
    }
  ],
  "metadata": {
    "kernelspec": {
      "display_name": "Python 3",
      "language": "python",
      "name": "python3"
    },
    "language_info": {
      "codemirror_mode": {
        "name": "ipython",
        "version": 3
      },
      "file_extension": ".py",
      "mimetype": "text/x-python",
      "name": "python",
      "nbconvert_exporter": "python",
      "pygments_lexer": "ipython3",
      "version": "3.10.14"
    }
  },
  "nbformat": 4,
  "nbformat_minor": 0
}