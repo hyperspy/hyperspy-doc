{
  "cells": [
    {
      "cell_type": "markdown",
      "metadata": {},
      "source": [
        "\n# Creates a spectrum image and plots it\n\nThis example creates a spectrum image, i.e. navigation dimension 2 and\nsignal dimension 1, and plots it\n"
      ]
    },
    {
      "cell_type": "code",
      "execution_count": null,
      "metadata": {
        "collapsed": false
      },
      "outputs": [],
      "source": [
        "import numpy as np\nimport hyperspy.api as hs\nimport matplotlib.pyplot as plt\n\n# Create a spectrum image with random data\ns = hs.signals.Signal1D(np.random.random((64, 64, 1024)))\n\n# Define the axis properties\ns.axes_manager.signal_axes[0].name = 'Energy'\ns.axes_manager.signal_axes[0].units = 'eV'\ns.axes_manager.signal_axes[0].scale = 0.3\ns.axes_manager.signal_axes[0].offset = 100\n\ns.axes_manager.navigation_axes[0].name = 'X'\ns.axes_manager.navigation_axes[0].units = 'nm'\ns.axes_manager.navigation_axes[0].scale = 0.1\ns.axes_manager.navigation_axes[0].offset = 100\n\ns.axes_manager.navigation_axes[1].name = 'Y'\ns.axes_manager.navigation_axes[1].units = 'nm'\ns.axes_manager.navigation_axes[1].scale = 0.1\ns.axes_manager.navigation_axes[1].offset = 100\n\n# Give a title\ns.metadata.General.title = 'Random spectrum image'\n\n# Plot it\ns.plot()\n\nplt.show()  # No necessary when running in the HyperSpy's IPython profile"
      ]
    }
  ],
  "metadata": {
    "kernelspec": {
      "display_name": "Python 3",
      "language": "python",
      "name": "python3"
    },
    "language_info": {
      "codemirror_mode": {
        "name": "ipython",
        "version": 3
      },
      "file_extension": ".py",
      "mimetype": "text/x-python",
      "name": "python",
      "nbconvert_exporter": "python",
      "pygments_lexer": "ipython3",
      "version": "3.10.8"
    }
  },
  "nbformat": 4,
  "nbformat_minor": 0
}