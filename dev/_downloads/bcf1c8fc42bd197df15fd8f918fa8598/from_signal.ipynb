{
  "cells": [
    {
      "cell_type": "markdown",
      "metadata": {},
      "source": [
        "\n# Creating Markers from a signal\n\nThis example shows how to create markers from a signal. This is useful for creating lazy\nmarkers from some operation such as peak finding on a signal. Here we show how to create\nmarkers from a simple map function which finds the maximum value and plots a marker at\nthat position.\n"
      ]
    },
    {
      "cell_type": "code",
      "execution_count": null,
      "metadata": {
        "collapsed": false
      },
      "outputs": [],
      "source": [
        "import numpy as np\nimport hyperspy.api as hs\n\n\n# Making some artificial data\ndef find_maxima(data, scale, offset):\n    ind = np.array(np.unravel_index(np.argmax(data, axis=None), data.shape)).astype(int)\n    d = data[ind]\n    ind = ind * scale + offset  # convert to physical units\n    print(ind)\n    print(d)\n    return np.array(\n        [\n            [ind[0], d[0]],\n        ]\n    )\n\n\ndef find_maxima_lines(data, scale, offset):\n    ind = np.array(np.unravel_index(np.argmax(data, axis=None), data.shape)).astype(int)\n    ind = ind * scale + offset  # convert to physical units\n    return ind\n\n\ndef gaussian(x, mu, sig):\n    return (\n        1.0 / (np.sqrt(2.0 * np.pi) * sig) * np.exp(-np.power((x - mu) / sig, 2.0) / 2)\n    )\n\n\ndata = np.empty((4, 120))\nfor i in range(4):\n    x_values = np.linspace(-3 + i * 0.1, 3 + i * 0.1, 120)\n    data[i] = gaussian(x_values, mu=0, sig=10)\n\ns = hs.signals.Signal1D(data)\ns.axes_manager.signal_axes[0].scale = 6 / 120\ns.axes_manager.signal_axes[0].offset = -3\n\n\nscale = s.axes_manager.signal_axes[0].scale\noffset = s.axes_manager.signal_axes[0].offset\nmax_values = s.map(find_maxima, scale=scale, offset=offset, inplace=False, ragged=True)\nmax_values_lines = s.map(\n    find_maxima_lines, scale=scale, offset=offset, inplace=False, ragged=True\n)\n\npoint_markers = hs.plot.markers.Points.from_signal(max_values, signal_axes=None)\nline_markers = hs.plot.markers.VerticalLines.from_signal(\n    max_values_lines, signal_axes=None\n)\n\n\ns.plot()\ns.add_marker(point_markers)\ns.add_marker(line_markers)"
      ]
    }
  ],
  "metadata": {
    "kernelspec": {
      "display_name": "Python 3",
      "language": "python",
      "name": "python3"
    },
    "language_info": {
      "codemirror_mode": {
        "name": "ipython",
        "version": 3
      },
      "file_extension": ".py",
      "mimetype": "text/x-python",
      "name": "python",
      "nbconvert_exporter": "python",
      "pygments_lexer": "ipython3",
      "version": "3.10.13"
    }
  },
  "nbformat": 4,
  "nbformat_minor": 0
}