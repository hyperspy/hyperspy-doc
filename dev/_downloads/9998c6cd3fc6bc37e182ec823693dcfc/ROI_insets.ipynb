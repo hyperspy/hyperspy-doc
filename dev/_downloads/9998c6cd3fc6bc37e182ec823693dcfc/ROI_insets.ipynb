{
  "cells": [
    {
      "cell_type": "markdown",
      "metadata": {},
      "source": [
        "\n# ROI Insets\n\nROI's can be powerful tools to help visualize data.  In this case we will define ROI's in hyperspy, sum\nthe data within the ROI, and then plot the sum as a signal. Using the :class:`matplotlib.figure.SubFigure` class\nwe can create a custom layout to visualize and interact with the data.\n\nWe can connect these ROI's using the :func:`hyperspy.api.interactive` function which allows us to move the ROI's and see the sum of the underlying data.\n"
      ]
    },
    {
      "cell_type": "code",
      "execution_count": null,
      "metadata": {
        "collapsed": false
      },
      "outputs": [],
      "source": [
        "import matplotlib.pyplot as plt\nimport hyperspy.api as hs\nimport numpy as np\n\nrng = np.random.default_rng()\n\nfig = plt.figure(figsize=(5, 3))\ngs = fig.add_gridspec(6, 10)\nsub1 = fig.add_subfigure(gs[0:6, 0:6])\nsub2 = fig.add_subfigure(gs[0:2, 6:8])\nsub3 = fig.add_subfigure(gs[2:4, 7:9])\nsub4 = fig.add_subfigure(gs[4:6, 6:8])\n\n\ns = hs.signals.Signal2D(rng.random((10, 10, 30, 30)))\nr1 = hs.roi.RectangularROI(1, 1, 3, 3)\nr2 = hs.roi.RectangularROI(4, 4, 6, 6)\nr3 = hs.roi.RectangularROI(3, 7, 5, 9)\n\nnavigator = s.sum(axis=(2, 3)).T  # create a navigator signal\nnavigator.plot(fig=sub1, colorbar=False, axes_off=True, title=\"\", plot_indices=False)\n\n\ns2 = r1.interactive(s, navigation_signal=navigator, color=\"red\")\ns3 = r2.interactive(s, navigation_signal=navigator, color=\"g\")\ns4 = r3.interactive(s, navigation_signal=navigator, color=\"y\")\n\ns2_int = s2.sum()\ns3_int = s3.sum()\ns4_int = s4.sum()\n\ns2_int.plot(fig=sub2, colorbar=False, axes_off=True, title=\"\", plot_indices=False)\ns3_int.plot(fig=sub3, colorbar=False, axes_off=True, title=\"\", plot_indices=False)\ns4_int.plot(fig=sub4, colorbar=False, axes_off=True, title=\"\", plot_indices=False)\n\n# Connect ROIS\nfor s, s_int, roi in zip([s2, s3, s4], [s2_int, s3_int, s4_int],[r1,r2,r3]):\n    hs.interactive(\n        s.sum,\n        event=roi.events.changed,\n        recompute_out_event=None,\n        out=s_int,\n    )\n\n# Add Borders to the match the color of the ROI\n\nfor signal,color, label  in zip([s2_int, s3_int, s4_int], [\"r\", \"g\", \"y\"], [\"b.\", \"c.\", \"d.\"]):\n    edge =  hs.plot.markers.Squares(\n    offset_transform=\"axes\",\n    offsets=(0.5, 0.5),\n    units=\"width\",\n    widths=1,\n    color=color,\n    linewidth=5,\n    facecolor=\"none\",\n    )\n\n    signal.add_marker(edge)\n\n    label = hs.plot.markers.Texts(\n    texts=(label,), offsets=[[0.85, 0.85]], offset_transform=\"axes\", sizes=2, color=\"w\"\n    )\n    signal.add_marker(label)\n\n# Label the big plot\n\nlabel = hs.plot.markers.Texts(\n    texts=(\"a.\",), offsets=[[0.9, 0.9]], offset_transform=\"axes\", sizes=10, color=\"w\"\n    )\nnavigator.add_marker(label)"
      ]
    }
  ],
  "metadata": {
    "kernelspec": {
      "display_name": "Python 3",
      "language": "python",
      "name": "python3"
    },
    "language_info": {
      "codemirror_mode": {
        "name": "ipython",
        "version": 3
      },
      "file_extension": ".py",
      "mimetype": "text/x-python",
      "name": "python",
      "nbconvert_exporter": "python",
      "pygments_lexer": "ipython3",
      "version": "3.10.14"
    }
  },
  "nbformat": 4,
  "nbformat_minor": 0
}