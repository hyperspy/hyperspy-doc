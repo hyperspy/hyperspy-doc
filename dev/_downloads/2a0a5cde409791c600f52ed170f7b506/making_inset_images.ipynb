{
  "cells": [
    {
      "cell_type": "markdown",
      "metadata": {},
      "source": [
        "\n# Making Inset Images\n\nThis example shows how to make images that overlay the main images.  These can be images overlaid using\nsome king of transparency or make an inset image.  It can also be useful for something like making something\nlike a circular color bar to show orientation.\n"
      ]
    },
    {
      "cell_type": "code",
      "execution_count": null,
      "metadata": {
        "collapsed": false
      },
      "outputs": [],
      "source": [
        "import numpy as np\nimport hyperspy.api as hs\nimport matplotlib"
      ]
    },
    {
      "cell_type": "markdown",
      "metadata": {},
      "source": [
        "Making some artificial data\n\n"
      ]
    },
    {
      "cell_type": "code",
      "execution_count": null,
      "metadata": {
        "collapsed": false
      },
      "outputs": [],
      "source": [
        "s = hs.signals.Signal2D(np.random.rand(100, 100, 10, 10))\nsignal2 = hs.signals.Signal2D(np.random.rand(10, 10))"
      ]
    },
    {
      "cell_type": "markdown",
      "metadata": {},
      "source": [
        "Plotting signal2 as an inset image on s\n\n"
      ]
    },
    {
      "cell_type": "code",
      "execution_count": null,
      "metadata": {
        "collapsed": false
      },
      "outputs": [],
      "source": [
        "signal2_shape = signal2.axes_manager._signal_shape_in_array\n\ny = np.linspace(\n    -0.1, 0.1, signal2_shape[0] + 1\n)  # making a mesh grid 20% of the size of the main image\nx = np.linspace(\n    -0.1, 0.1, signal2_shape[1] + 1\n)  # making a mesh grid 20% of the size of the main image\nxx, yy = np.meshgrid(x, y)\ncoords = np.stack([xx, yy], axis=-1)\n\nquad = hs.plot.markers.Markers(\n    collection=matplotlib.collections.QuadMesh,\n    coordinates=coords,\n    array=signal2.data,\n    cmap=\"hsv\",\n    transform=\"axes\",\n    offset_transform=\"axes\",\n    offsets=[[0.7, 0.7]],\n    alpha=1,\n)  # Put in top right corner\n\ns.plot()\ns.add_marker(quad)"
      ]
    },
    {
      "cell_type": "markdown",
      "metadata": {},
      "source": [
        "## Dynamic Inset Markers\n\nThis example shows how to draw dynamic inset markers, whose position\ndepends on the navigation coordinates\n\n"
      ]
    },
    {
      "cell_type": "code",
      "execution_count": null,
      "metadata": {
        "collapsed": false
      },
      "outputs": [],
      "source": [
        "s = hs.signals.Signal2D(np.random.rand(100, 100, 10, 10))\nsignal2 = hs.signals.Signal2D(np.random.rand(100, 100, 10, 10))\n\nsignal2_shape = signal2.axes_manager._signal_shape_in_array\n\n\ndef to_ragged(s):\n    return s\n\n\nragged_signal2 = signal2.map(to_ragged, ragged=True, inplace=False)\n\ny = np.linspace(\n    -0.1, 0.1, signal2_shape[0] + 1\n)  # making a mesh grid 20% of the size of the main image\nx = np.linspace(\n    -0.1, 0.1, signal2_shape[1] + 1\n)  # making a mesh grid 20% of the size of the main image\nxx, yy = np.meshgrid(x, y)\ncoords = np.stack([xx, yy], axis=-1)\n\nquad = hs.plot.markers.Markers(\n    collection=matplotlib.collections.QuadMesh,\n    coordinates=coords,\n    array=ragged_signal2.data,\n    cmap=\"hsv\",\n    transform=\"axes\",\n    offset_transform=\"axes\",\n    offsets=[[0.7, 0.7]],\n    alpha=1,\n)  # Put in top right corner\n\ns.plot()\ns.add_marker(quad)"
      ]
    },
    {
      "cell_type": "markdown",
      "metadata": {},
      "source": [
        "## Transparent Overlay\n\nThis example shows how to draw overlay a dynamic image over the signal, whose position\ndepends on the navigation coordinates\n\n"
      ]
    },
    {
      "cell_type": "code",
      "execution_count": null,
      "metadata": {
        "collapsed": false
      },
      "outputs": [],
      "source": [
        "s = hs.signals.Signal2D(np.random.rand(100, 100, 10, 10))\nsignal2 = hs.signals.Signal2D(np.random.rand(100, 100, 10, 10))\n\ny = np.linspace(\n    0, 1, signal2_shape[0] + 1\n)  # making a mesh grid 20% of the size of the main image\nx = np.linspace(\n    0, 1, signal2_shape[1] + 1\n)  # making a mesh grid 20% of the size of the main image\nxx, yy = np.meshgrid(x, y)\ncoords = np.stack([xx, yy], axis=-1)\n\nquad = hs.plot.markers.Markers(\n    collection=matplotlib.collections.QuadMesh,\n    coordinates=coords,\n    array=ragged_signal2.data,\n    cmap=\"hsv\",\n    transform=\"axes\",\n    offset_transform=\"display\",\n    offsets=[[0, 0]],\n    alpha=0.3,\n)  # Put in top right corner\n\ns.plot()\ns.add_marker(quad)"
      ]
    },
    {
      "cell_type": "markdown",
      "metadata": {},
      "source": [
        "## Circular ColorBar\n\nThis example shows how to a circular Color Bar for shows orientation\n\n"
      ]
    },
    {
      "cell_type": "code",
      "execution_count": null,
      "metadata": {
        "collapsed": false
      },
      "outputs": [],
      "source": [
        "n = 360  # the number of secants for the mesh\nt = np.linspace(0, 2 * np.pi, n)  # theta values\nr = np.linspace(0.6, 1, 2)  # radius values change 0.6 to 0 for full circle\n\ny = np.sin(t[:, np.newaxis]) * r[np.newaxis, :] / 10\nx = np.cos(t[:, np.newaxis]) * r[np.newaxis, :] / 10\ncoords = np.stack([x, y], axis=-1)\n\nquad = hs.plot.markers.Markers(\n    collection=matplotlib.collections.QuadMesh,\n    coordinates=coords,\n    array=t[1:],\n    cmap=\"hsv\",\n    transform=\"axes\",\n    offset_transform=\"axes\",\n    offsets=[[0.75, 0.8]],\n    alpha=1,\n)\n\n\nim = np.random.randint(1, 360, (100, 100))\nnav = hs.signals.Signal2D(im).T\n\ns.plot(navigator=nav, navigator_kwds=dict(cmap=\"hsv\", colorbar=False))\n\ns.add_marker(quad, plot_on_signal=False)"
      ]
    },
    {
      "cell_type": "markdown",
      "metadata": {},
      "source": [
        "sphinx_gallery_thumbnail_number = 2\n\n"
      ]
    }
  ],
  "metadata": {
    "kernelspec": {
      "display_name": "Python 3",
      "language": "python",
      "name": "python3"
    },
    "language_info": {
      "codemirror_mode": {
        "name": "ipython",
        "version": 3
      },
      "file_extension": ".py",
      "mimetype": "text/x-python",
      "name": "python",
      "nbconvert_exporter": "python",
      "pygments_lexer": "ipython3",
      "version": "3.11.10"
    }
  },
  "nbformat": 4,
  "nbformat_minor": 0
}