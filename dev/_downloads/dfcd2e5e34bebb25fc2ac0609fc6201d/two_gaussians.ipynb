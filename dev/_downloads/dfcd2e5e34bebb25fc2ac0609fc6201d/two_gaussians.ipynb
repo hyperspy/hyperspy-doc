{
  "cells": [
    {
      "cell_type": "markdown",
      "metadata": {},
      "source": [
        "\n# Simple simulation (2 Gaussians)\n\nCreates a 2D hyperspectrum consisting of two Gaussians and plots it.\n\nThis example can serve as starting point to test other functionalities on the\nsimulated hyperspectrum.\n"
      ]
    },
    {
      "cell_type": "code",
      "execution_count": null,
      "metadata": {
        "collapsed": false
      },
      "outputs": [],
      "source": [
        "import numpy as np\nimport hyperspy.api as hs\nimport matplotlib.pyplot as plt\n\n\n# Create an empty spectrum\ns = hs.signals.Signal1D(np.zeros((32, 32, 1024)))\n\n# Generate some simple data: two Gaussians with random centers and area\n\n# First we create a model\nm = s.create_model()\n\n# Define the first gaussian\ngs1 = hs.model.components1D.Gaussian()\n# Add it to the model\nm.append(gs1)\n\n# Set the parameters\ngs1.sigma.value = 10\n# Make the center vary in the -5,5 range around 128\ngs1.centre.map['values'][:] = 256 + (np.random.random((32, 32)) - 0.5) * 10\ngs1.centre.map['is_set'][:] = True\n\n# Make the area vary between 0 and 10000\ngs1.A.map['values'][:] = 10000 * np.random.random((32, 32))\ngs1.A.map['is_set'][:] = True\n\n# Second gaussian\ngs2 = hs.model.components1D.Gaussian()\n# Add it to the model\nm.append(gs2)\n\n# Set the parameters\ngs2.sigma.value = 20\n\n# Make the center vary in the -10,10 range around 768\ngs2.centre.map['values'][:] = 768 + (np.random.random((32, 32)) - 0.5) * 20\ngs2.centre.map['is_set'][:] = True\n\n# Make the area vary between 0 and 20000\ngs2.A.map['values'][:] = 20000 * np.random.random((32, 32))\ngs2.A.map['is_set'][:] = True\n\n# Create the dataset\ns_model = m.as_signal()\n\n# Add noise\ns_model.set_signal_origin(\"simulation\")\ns_model.add_poissonian_noise()\n\n# Plot the result\ns_model.plot()\n\nplt.show()"
      ]
    }
  ],
  "metadata": {
    "kernelspec": {
      "display_name": "Python 3",
      "language": "python",
      "name": "python3"
    },
    "language_info": {
      "codemirror_mode": {
        "name": "ipython",
        "version": 3
      },
      "file_extension": ".py",
      "mimetype": "text/x-python",
      "name": "python",
      "nbconvert_exporter": "python",
      "pygments_lexer": "ipython3",
      "version": "3.11.7"
    }
  },
  "nbformat": 4,
  "nbformat_minor": 0
}