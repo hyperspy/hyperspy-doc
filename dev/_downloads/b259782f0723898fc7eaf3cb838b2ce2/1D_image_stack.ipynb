{
  "cells": [
    {
      "cell_type": "markdown",
      "metadata": {},
      "source": [
        "\n# Creates a 3D image\n\nThis example creates an image stack and plots it.\n"
      ]
    },
    {
      "cell_type": "code",
      "execution_count": null,
      "metadata": {
        "collapsed": false
      },
      "outputs": [],
      "source": [
        "import numpy as np\nimport hyperspy.api as hs\n\n# Create an image stack with random data\nim = hs.signals.Signal2D(np.random.random((16, 32, 32)))\n\n# Define the axis properties\nim.axes_manager.signal_axes[0].name = 'X'\nim.axes_manager.signal_axes[0].units = 'nm'\nim.axes_manager.signal_axes[0].scale = 0.1\nim.axes_manager.signal_axes[0].offset = 0\n\nim.axes_manager.signal_axes[1].name = 'Y'\nim.axes_manager.signal_axes[1].units = 'nm'\nim.axes_manager.signal_axes[1].scale = 0.1\nim.axes_manager.signal_axes[1].offset = 0\n\nim.axes_manager.navigation_axes[0].name = 'time'\nim.axes_manager.navigation_axes[0].units = 'fs'\nim.axes_manager.navigation_axes[0].scale = 0.3\nim.axes_manager.navigation_axes[0].offset = 100\n\n# Give a title\nim.metadata.General.title = 'Random image stack'\n\n# Plot it\nim.plot()"
      ]
    }
  ],
  "metadata": {
    "kernelspec": {
      "display_name": "Python 3",
      "language": "python",
      "name": "python3"
    },
    "language_info": {
      "codemirror_mode": {
        "name": "ipython",
        "version": 3
      },
      "file_extension": ".py",
      "mimetype": "text/x-python",
      "name": "python",
      "nbconvert_exporter": "python",
      "pygments_lexer": "ipython3",
      "version": "3.10.14"
    }
  },
  "nbformat": 4,
  "nbformat_minor": 0
}