{
  "cells": [
    {
      "cell_type": "markdown",
      "metadata": {},
      "source": [
        "\n# Specifying Matplotlib Axis\n"
      ]
    },
    {
      "cell_type": "code",
      "execution_count": null,
      "metadata": {
        "collapsed": false
      },
      "outputs": [],
      "source": [
        "import hyperspy.api as hs\nimport matplotlib.pyplot as plt\nimport numpy as np"
      ]
    },
    {
      "cell_type": "markdown",
      "metadata": {},
      "source": [
        "## Signal2D\n\nCreate two Signal2D\n\n"
      ]
    },
    {
      "cell_type": "code",
      "execution_count": null,
      "metadata": {
        "collapsed": false
      },
      "outputs": [],
      "source": [
        "s = hs.signals.Signal2D(np.arange(100).reshape(10, 10))\ns2 = -s"
      ]
    },
    {
      "cell_type": "markdown",
      "metadata": {},
      "source": [
        "Create a list of :external+matplotlib:class:`matplotlib.axis.Axis` using\n:external+matplotlib:func:`matplotlib.pyplot.subplots` and\nspecify the second matplotlib axis of the list to :func:`~.api.plot.plot_images`\n\n"
      ]
    },
    {
      "cell_type": "code",
      "execution_count": null,
      "metadata": {
        "collapsed": false
      },
      "outputs": [],
      "source": [
        "fig, axs = plt.subplots(ncols=3, nrows=1)\nhs.plot.plot_images(s, ax=axs[1], axes_decor=\"off\")"
      ]
    },
    {
      "cell_type": "markdown",
      "metadata": {},
      "source": [
        "The same can be done for a list of signals and axis\n\n"
      ]
    },
    {
      "cell_type": "code",
      "execution_count": null,
      "metadata": {
        "collapsed": false
      },
      "outputs": [],
      "source": [
        "fig, axs = plt.subplots(ncols=3, nrows=1)\nhs.plot.plot_images([s, s2], ax=axs[1:3], axes_decor=\"off\")"
      ]
    },
    {
      "cell_type": "markdown",
      "metadata": {},
      "source": [
        "## Signal1D\n\nThe same can be for :class:`~.api.signals.Signal1D`\n\nCreate two Signal2D\n\n"
      ]
    },
    {
      "cell_type": "code",
      "execution_count": null,
      "metadata": {
        "collapsed": false
      },
      "outputs": [],
      "source": [
        "s = hs.signals.Signal1D(np.arange(100))\ns2 = -s"
      ]
    },
    {
      "cell_type": "markdown",
      "metadata": {},
      "source": [
        "Create an array of :external+matplotlib:class:`matplotlib.axis.Axis` using\n:external+matplotlib:func:`matplotlib.pyplot.subplots` and\nspecify the two las matplotlib axis of the second line to :func:`~.api.plot.plot_spectra`\n\n"
      ]
    },
    {
      "cell_type": "code",
      "execution_count": null,
      "metadata": {
        "collapsed": false
      },
      "outputs": [],
      "source": [
        "fig, axs = plt.subplots(ncols=3, nrows=2)\nhs.plot.plot_spectra([s, s2], ax=axs[1, 1:3], style=\"mosaic\")"
      ]
    }
  ],
  "metadata": {
    "kernelspec": {
      "display_name": "Python 3",
      "language": "python",
      "name": "python3"
    },
    "language_info": {
      "codemirror_mode": {
        "name": "ipython",
        "version": 3
      },
      "file_extension": ".py",
      "mimetype": "text/x-python",
      "name": "python",
      "nbconvert_exporter": "python",
      "pygments_lexer": "ipython3",
      "version": "3.11.10"
    }
  },
  "nbformat": 4,
  "nbformat_minor": 0
}