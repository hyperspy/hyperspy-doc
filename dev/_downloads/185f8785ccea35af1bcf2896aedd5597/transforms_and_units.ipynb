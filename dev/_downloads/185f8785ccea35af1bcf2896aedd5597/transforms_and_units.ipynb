{
  "cells": [
    {
      "cell_type": "markdown",
      "metadata": {},
      "source": [
        "\n# Transforms and Units\n\nThis example shows how to use both the ``offset_transform`` and ```transforms``\nparameters for markers\n"
      ]
    },
    {
      "cell_type": "markdown",
      "metadata": {},
      "source": [
        "Create a signal\n\n"
      ]
    },
    {
      "cell_type": "code",
      "execution_count": null,
      "metadata": {
        "collapsed": false
      },
      "outputs": [],
      "source": [
        "import hyperspy.api as hs\nimport numpy as np\n\nrng = np.random.default_rng()\ndata = np.arange(1, 101).reshape(10, 10)*2 + rng.random((10, 10))\nsignal = hs.signals.Signal1D(data)"
      ]
    },
    {
      "cell_type": "markdown",
      "metadata": {},
      "source": [
        "The first example shows how to draw markers which are relative to some\n1D signal.  This is how the EDS and EELS Lines are implemented in the\nexspy package.\n\n"
      ]
    },
    {
      "cell_type": "code",
      "execution_count": null,
      "metadata": {
        "collapsed": false
      },
      "outputs": [],
      "source": [
        "segments = np.zeros((10, 2, 2)) # line segemnts for realative markers\nsegments[:, 1, 1] = 1  # set y values end (1 means to the signal curve)\nsegments[:, 0, 0] = np.arange(10).reshape(10)  # set x for line start\nsegments[:, 1, 0] = np.arange(10).reshape(10)  # set x for line stop\n\noffsets = np.zeros((10,2)) # offsets for texts positions\noffsets[:, 1] = 1  # set y value for text position ((1 means to the signal curve))\noffsets[:, 0] = np.arange(10).reshape(10)  # set x for line start\n\nmarkers = hs.plot.markers.Lines(segments=segments,transform=\"relative\")\ntexts = hs.plot.markers.Texts(offsets=offsets,\n                              texts=[\"a\", \"b\", \"c\", \"d\", \"e\", \"f\", \"g\", \"h\", \"i\"],\n                              sizes=10,\n                              offset_transform=\"relative\",\n                              shift=0.005)  # shift in axes units for some constant displacement\nsignal.plot()\nsignal.add_marker(markers)\nsignal.add_marker(texts)"
      ]
    },
    {
      "cell_type": "markdown",
      "metadata": {},
      "source": [
        "The second example shows how to draw markers which extend to the edges of the\naxes.  This is how the VerticalLines and HorizontalLines markers are implemented.\n\n"
      ]
    },
    {
      "cell_type": "code",
      "execution_count": null,
      "metadata": {
        "collapsed": false
      },
      "outputs": [],
      "source": [
        "markers = hs.plot.markers.Lines(segments=segments,\n                                transform=\"xaxis\")\n\n\nsignal.plot()\nsignal.add_marker(markers)"
      ]
    },
    {
      "cell_type": "markdown",
      "metadata": {},
      "source": [
        "The third example shows how an ``offset_transform`` of ``'axes'`` can be\nused to annotate a signal.\n\nThe size of the marker is specified in units defined by the ``transform``,\nin this case ``\"xaxis_scale\"``, ``\"yaxis_scale\"`` or ``\"display\"``\n\n"
      ]
    },
    {
      "cell_type": "code",
      "execution_count": null,
      "metadata": {
        "collapsed": false
      },
      "outputs": [],
      "source": [
        "offsets = [[1, 13.5], ]  # offsets for positions\nsizes =1\nunits = 'x'\noffset_transform = 'data'\nstring = (f\"       sizes={sizes}, offset_transform='{offset_transform}', units='{units}', offsets={offsets}\",)\n\nmarker1text = hs.plot.markers.Texts(offsets=offsets,\n                                    texts=string,\n                                    sizes=1,\n                                    horizontalalignment=\"left\",\n                                    verticalalignment=\"baseline\",\n                                    offset_transform=offset_transform)\n\nmarker = hs.plot.markers.Points(offsets=offsets,\n                      sizes=sizes, units=units, offset_transform=offset_transform)\n\n\noffsets = [[.1, .1], ]  # offsets for positions\nsizes =10\nunits = 'points'\noffset_transform = 'axes'\nstring = (f\"   sizes={sizes}, offset_transform='{offset_transform}', units='{units}', offsets={offsets}\",)\n\nmarker2text = hs.plot.markers.Texts(offsets=offsets,\n                                    texts=string,\n                                    sizes=1,\n                                    horizontalalignment=\"left\",\n                                    verticalalignment=\"baseline\",\n                                    offset_transform=offset_transform)\n\nmarker2 = hs.plot.markers.Points(offsets=offsets,\n                      sizes=sizes, units=units, offset_transform=offset_transform)\n\n\noffsets = [[.1, .8], ]  # offsets for positions\nsizes =1\nunits = 'y'\noffset_transform = 'axes'\nstring = (f\"   sizes={sizes}, offset_transform='{offset_transform}', units='{units}', offsets={offsets}\",)\n\nmarker3text = hs.plot.markers.Texts(offsets=offsets,\n                                    texts=string,\n                                    sizes=1,\n                                    horizontalalignment=\"left\",\n                                    verticalalignment=\"baseline\",\n                                    offset_transform=offset_transform)\n\nmarker3 = hs.plot.markers.Points(offsets=offsets,\n                      sizes=sizes, units=units, offset_transform=offset_transform)\n\n\noffsets = [[1, 7.5], ]  # offsets for positions\nsizes =1\nunits = 'xy'\noffset_transform = 'data'\nstring = (f\"       sizes={sizes}, offset_transform='{offset_transform}', units='{units}', offsets={offsets}\",)\n\nmarker4text = hs.plot.markers.Texts(offsets=offsets,\n                                    texts=string,\n                                    sizes=1,\n                                    horizontalalignment=\"left\",\n                                    verticalalignment=\"baseline\",\n                                    offset_transform=offset_transform)\n\nmarker4 = hs.plot.markers.Points(offsets=offsets,\n                      sizes=sizes, units=units, offset_transform=offset_transform)\n\n\nsignal.plot()\nsignal.add_marker(marker)\nsignal.add_marker(marker1text)\nsignal.add_marker(marker2)\nsignal.add_marker(marker2text)\nsignal.add_marker(marker3)\nsignal.add_marker(marker3text)\nsignal.add_marker(marker4)\nsignal.add_marker(marker4text)"
      ]
    },
    {
      "cell_type": "markdown",
      "metadata": {},
      "source": [
        "sphinx_gallery_thumbnail_number = 2\n"
      ]
    }
  ],
  "metadata": {
    "kernelspec": {
      "display_name": "Python 3",
      "language": "python",
      "name": "python3"
    },
    "language_info": {
      "codemirror_mode": {
        "name": "ipython",
        "version": 3
      },
      "file_extension": ".py",
      "mimetype": "text/x-python",
      "name": "python",
      "nbconvert_exporter": "python",
      "pygments_lexer": "ipython3",
      "version": "3.10.14"
    }
  },
  "nbformat": 4,
  "nbformat_minor": 0
}