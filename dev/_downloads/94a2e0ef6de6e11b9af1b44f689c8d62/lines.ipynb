{
  "cells": [
    {
      "cell_type": "markdown",
      "metadata": {},
      "source": [
        "\n# Line  Markers\n"
      ]
    },
    {
      "cell_type": "markdown",
      "metadata": {},
      "source": [
        "Create a signal\n\n"
      ]
    },
    {
      "cell_type": "code",
      "execution_count": null,
      "metadata": {
        "collapsed": false
      },
      "outputs": [],
      "source": [
        "import hyperspy.api as hs\nimport matplotlib.pyplot as plt\nimport numpy as np\n\n# Create a Signal2D with 2 navigation dimensions\nrng = np.random.default_rng(0)\ndata = np.ones((25, 25, 100, 100))\ns = hs.signals.Signal2D(data)"
      ]
    },
    {
      "cell_type": "markdown",
      "metadata": {},
      "source": [
        "This first example shows how to draw static stars markers using the matplotlib\nStarPolygonCollection\n\n"
      ]
    },
    {
      "cell_type": "code",
      "execution_count": null,
      "metadata": {
        "collapsed": false
      },
      "outputs": [],
      "source": [
        "# Define the position of the lines\n# line0: (x0, y0), (x1, y1)\n# line1: (x0, y0), (x1, y1)\n# ...\n\nsegments = rng.random((10, 2, 2)) * 100\n\nm = hs.plot.markers.Lines(\n    segments=segments,\n    linewidth=3,\n    colors='g',\n    )\n\ns.plot()\ns.add_marker(m)"
      ]
    },
    {
      "cell_type": "markdown",
      "metadata": {},
      "source": [
        "## Dynamic Line Markers\n\nThis first example shows how to draw dynamic lines markers, whose position\ndepends on the navigation coordinates\n\n"
      ]
    },
    {
      "cell_type": "code",
      "execution_count": null,
      "metadata": {
        "collapsed": false
      },
      "outputs": [],
      "source": [
        "segments = np.empty(s.axes_manager.navigation_shape, dtype=object)\nfor ind in np.ndindex(segments.shape):\n    segments[ind] = rng.random((10, 2, 2)) * 100\n\n# Get list of colors\ncolors = list(plt.rcParams['axes.prop_cycle'].by_key()['color'])\n\nm = hs.plot.markers.Lines(\n    segments=segments,\n    colors=colors,\n    linewidth=5,\n    )\n\ns.plot()\ns.add_marker(m)"
      ]
    },
    {
      "cell_type": "markdown",
      "metadata": {},
      "source": [
        "sphinx_gallery_thumbnail_number = 2\n\n"
      ]
    }
  ],
  "metadata": {
    "kernelspec": {
      "display_name": "Python 3",
      "language": "python",
      "name": "python3"
    },
    "language_info": {
      "codemirror_mode": {
        "name": "ipython",
        "version": 3
      },
      "file_extension": ".py",
      "mimetype": "text/x-python",
      "name": "python",
      "nbconvert_exporter": "python",
      "pygments_lexer": "ipython3",
      "version": "3.10.12"
    }
  },
  "nbformat": 4,
  "nbformat_minor": 0
}