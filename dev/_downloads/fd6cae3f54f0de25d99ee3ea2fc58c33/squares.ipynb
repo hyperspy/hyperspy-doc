{
  "cells": [
    {
      "cell_type": "markdown",
      "metadata": {},
      "source": [
        "\n# Square Markers\n"
      ]
    },
    {
      "cell_type": "markdown",
      "metadata": {},
      "source": [
        "Create a signal\n\n"
      ]
    },
    {
      "cell_type": "code",
      "execution_count": null,
      "metadata": {
        "collapsed": false
      },
      "outputs": [],
      "source": [
        "import hyperspy.api as hs\nimport numpy as np\n\n# Create a Signal2D with 2 navigation dimensions\nrng = np.random.default_rng(0)\ndata = np.ones((25, 25, 100, 100))\ns = hs.signals.Signal2D(data)"
      ]
    },
    {
      "cell_type": "markdown",
      "metadata": {},
      "source": [
        "This first example shows how to draw static square markers\n\n"
      ]
    },
    {
      "cell_type": "code",
      "execution_count": null,
      "metadata": {
        "collapsed": false
      },
      "outputs": [],
      "source": [
        "# Define the position of the squares (start at (0, 0) and increment by 10)\noffsets = np.array([np.arange(0, 100, 10)]*2).T\n\nm = hs.plot.markers.Squares(\n    offsets=offsets,\n    widths=(5,),\n    angles=(0,),\n    color=\"orange\",\n\n    )\ns.plot()\ns.add_marker(m)"
      ]
    },
    {
      "cell_type": "markdown",
      "metadata": {},
      "source": [
        "## Dynamic Square Markers\n\nThis first example shows how to draw dynamic squres markers, whose\nposition, widths and angles depends on the navigation coordinates\n\n"
      ]
    },
    {
      "cell_type": "code",
      "execution_count": null,
      "metadata": {
        "collapsed": false
      },
      "outputs": [],
      "source": [
        "s2 = hs.signals.Signal2D(data)\n\nwidths = np.empty(s.axes_manager.navigation_shape, dtype=object)\nheights = np.empty(s.axes_manager.navigation_shape, dtype=object)\nangles = np.empty(s.axes_manager.navigation_shape, dtype=object)\noffsets = np.empty(s.axes_manager.navigation_shape, dtype=object)\n\nfor index in np.ndindex(offsets.shape):\n    widths[index] = rng.random((10, )) * 50\n    heights[index] = rng.random((10, )) * 25\n    angles[index] = rng.random((10, )) * 180\n    offsets[index] = rng.random((10, 2)) * 100\n\nm = hs.plot.markers.Squares(\n    offsets=offsets,\n    widths=widths,\n    angles=angles,\n    color=\"orange\",\n    facecolor=\"none\",\n    linewidth=3\n    )\n\n\ns2.plot()\ns2.add_marker(m)"
      ]
    },
    {
      "cell_type": "markdown",
      "metadata": {},
      "source": [
        "sphinx_gallery_thumbnail_number = 4\n\n"
      ]
    }
  ],
  "metadata": {
    "kernelspec": {
      "display_name": "Python 3",
      "language": "python",
      "name": "python3"
    },
    "language_info": {
      "codemirror_mode": {
        "name": "ipython",
        "version": 3
      },
      "file_extension": ".py",
      "mimetype": "text/x-python",
      "name": "python",
      "nbconvert_exporter": "python",
      "pygments_lexer": "ipython3",
      "version": "3.10.14"
    }
  },
  "nbformat": 4,
  "nbformat_minor": 0
}