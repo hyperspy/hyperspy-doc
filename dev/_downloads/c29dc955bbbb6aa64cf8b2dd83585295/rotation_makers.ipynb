{
  "cells": [
    {
      "cell_type": "markdown",
      "metadata": {},
      "source": [
        "\n# Rotation of markers\n\nThis example shows how markers are rotated.\n"
      ]
    },
    {
      "cell_type": "markdown",
      "metadata": {},
      "source": [
        "Create a signal\n\n"
      ]
    },
    {
      "cell_type": "code",
      "execution_count": null,
      "metadata": {
        "collapsed": false
      },
      "outputs": [],
      "source": [
        "import hyperspy.api as hs\nimport numpy as np\n\n# Create a Signal2D\ndata = np.ones([100, 100])\ns = hs.signals.Signal2D(data)\n\nnum = 2\nangle = 25\ncolor = [\"tab:orange\", \"tab:blue\"]"
      ]
    },
    {
      "cell_type": "markdown",
      "metadata": {},
      "source": [
        "Create the markers, the first and second elements are at 0 and 20 degrees\n\n"
      ]
    },
    {
      "cell_type": "code",
      "execution_count": null,
      "metadata": {
        "collapsed": false
      },
      "outputs": [],
      "source": [
        "# Define the position of the markers\noffsets = np.array([20*np.ones(num)]*2).T\nangles = np.arange(0, angle*num, angle)\n\nm1 = hs.plot.markers.Rectangles(\n    offsets=offsets,\n    widths=np.ones(num)*20,\n    heights=np.ones(num)*10,\n    angles=angles,\n    facecolor='none',\n    edgecolor=color,\n    )\n\nm2 = hs.plot.markers.Ellipses(\n    offsets=offsets + np.array([0, 20]),\n    widths=np.ones(num)*20,\n    heights=np.ones(num)*10,\n    angles=angles,\n    facecolor='none',\n    edgecolor=color,\n    )\n\nm3 = hs.plot.markers.Squares(\n    offsets=offsets + np.array([0, 50]),\n    widths=np.ones(num)*20,\n    angles=angles,\n    facecolor='none',\n    edgecolor=color,\n    )"
      ]
    },
    {
      "cell_type": "markdown",
      "metadata": {},
      "source": [
        "Plot the signals and add all the markers\n\n"
      ]
    },
    {
      "cell_type": "code",
      "execution_count": null,
      "metadata": {
        "collapsed": false
      },
      "outputs": [],
      "source": [
        "s.plot()\ns.add_marker([m1, m2, m3])"
      ]
    },
    {
      "cell_type": "markdown",
      "metadata": {},
      "source": [
        "sphinx_gallery_thumbnail_number = 1\n\n"
      ]
    }
  ],
  "metadata": {
    "kernelspec": {
      "display_name": "Python 3",
      "language": "python",
      "name": "python3"
    },
    "language_info": {
      "codemirror_mode": {
        "name": "ipython",
        "version": 3
      },
      "file_extension": ".py",
      "mimetype": "text/x-python",
      "name": "python",
      "nbconvert_exporter": "python",
      "pygments_lexer": "ipython3",
      "version": "3.10.14"
    }
  },
  "nbformat": 4,
  "nbformat_minor": 0
}