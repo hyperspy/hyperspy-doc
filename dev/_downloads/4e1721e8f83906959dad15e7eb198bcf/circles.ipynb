{
  "cells": [
    {
      "cell_type": "markdown",
      "metadata": {},
      "source": [
        "\n# Circle Markers\n"
      ]
    },
    {
      "cell_type": "markdown",
      "metadata": {},
      "source": [
        "Create a signal\n\n"
      ]
    },
    {
      "cell_type": "code",
      "execution_count": null,
      "metadata": {
        "collapsed": false
      },
      "outputs": [],
      "source": [
        "import hyperspy.api as hs\nimport numpy as np\n\n# Create a Signal2D with 1 navigation dimension\nrng = np.random.default_rng(0)\ndata = np.ones((50, 100, 100))\ns = hs.signals.Signal2D(data)"
      ]
    },
    {
      "cell_type": "markdown",
      "metadata": {},
      "source": [
        "This first example shows how to draw static circles\n\n"
      ]
    },
    {
      "cell_type": "code",
      "execution_count": null,
      "metadata": {
        "collapsed": false
      },
      "outputs": [],
      "source": [
        "# Define the position of the circles (start at (0, 0) and increment by 10)\noffsets = np.array([np.arange(0, 100, 10)]*2).T\n\nm = hs.plot.markers.Circles(\n    sizes=10,\n    offsets=offsets,\n    edgecolor='r',\n    linewidth=5,\n    )\n\ns.plot()\ns.add_marker(m)"
      ]
    },
    {
      "cell_type": "markdown",
      "metadata": {},
      "source": [
        "## Dynamic Circle Markers\n\nThis second example shows how to draw dynamic circles whose position and\nradius change depending on the navigation position\n\n"
      ]
    },
    {
      "cell_type": "code",
      "execution_count": null,
      "metadata": {
        "collapsed": false
      },
      "outputs": [],
      "source": [
        "s2 = hs.signals.Signal2D(data)\n\noffsets = np.empty(s.axes_manager.navigation_shape, dtype=object)\nsizes = np.empty(s.axes_manager.navigation_shape, dtype=object)\n\nfor ind in np.ndindex(offsets.shape):\n    offsets[ind] = rng.random((5, 2)) * 100\n    sizes[ind] = rng.random((5, )) * 10\n\nm = hs.plot.markers.Circles(\n    sizes=sizes,\n    offsets=offsets,\n    edgecolor='r',\n    linewidth=5,\n    )\n\ns2.plot()\ns2.add_marker(m)"
      ]
    },
    {
      "cell_type": "markdown",
      "metadata": {},
      "source": [
        "sphinx_gallery_thumbnail_number = 4\n\n"
      ]
    }
  ],
  "metadata": {
    "kernelspec": {
      "display_name": "Python 3",
      "language": "python",
      "name": "python3"
    },
    "language_info": {
      "codemirror_mode": {
        "name": "ipython",
        "version": 3
      },
      "file_extension": ".py",
      "mimetype": "text/x-python",
      "name": "python",
      "nbconvert_exporter": "python",
      "pygments_lexer": "ipython3",
      "version": "3.10.12"
    }
  },
  "nbformat": 4,
  "nbformat_minor": 0
}