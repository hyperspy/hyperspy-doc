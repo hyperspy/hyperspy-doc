{
  "cells": [
    {
      "cell_type": "markdown",
      "metadata": {},
      "source": [
        "\n# Star Markers\n"
      ]
    },
    {
      "cell_type": "markdown",
      "metadata": {},
      "source": [
        "Create a signal\n\n"
      ]
    },
    {
      "cell_type": "code",
      "execution_count": null,
      "metadata": {
        "collapsed": false
      },
      "outputs": [],
      "source": [
        "import hyperspy.api as hs\nimport matplotlib as mpl\nimport numpy as np\n\n# Create a Signal2D with 2 navigation dimensions\nrng = np.random.default_rng(0)\ndata = np.ones((25, 25, 100, 100))\ns = hs.signals.Signal2D(data)"
      ]
    },
    {
      "cell_type": "markdown",
      "metadata": {},
      "source": [
        "This first example shows how to draw static stars markers using the matplotlib\nStarPolygonCollection\n\n"
      ]
    },
    {
      "cell_type": "code",
      "execution_count": null,
      "metadata": {
        "collapsed": false
      },
      "outputs": [],
      "source": [
        "# Define the position of the boxes\noffsets = rng.random((10, 2)) * 100\n\n# every other star has a size of 50/100\nm = hs.plot.markers.Markers(collection=mpl.collections.StarPolygonCollection,\n                            offsets=offsets,\n                            numsides=5,\n                            color=\"orange\",\n                            sizes=(50, 100))\ns.plot()\ns.add_marker(m)"
      ]
    },
    {
      "cell_type": "markdown",
      "metadata": {},
      "source": [
        "## Dynamic Star Markers\n\nThis second example shows how to draw dynamic stars markers, whose position\ndepends on the navigation coordinates\n\n"
      ]
    },
    {
      "cell_type": "code",
      "execution_count": null,
      "metadata": {
        "collapsed": false
      },
      "outputs": [],
      "source": [
        "# Create a Signal2D with 2 navigation dimensions\ns2 = hs.signals.Signal2D(data)\n\n# Create a ragged array of offsets\noffsets = np.empty(s.axes_manager.navigation_shape, dtype=object)\nfor ind in np.ndindex(offsets.shape):\n    offsets[ind] = rng.random((10, 2)) * 100\n\nm2 = hs.plot.markers.Markers(collection=mpl.collections.StarPolygonCollection,\n                            offsets=offsets,\n                            numsides=5,\n                            color=\"blue\",\n                            sizes=(50, 100))\n\ns2.plot()\ns2.add_marker(m2)"
      ]
    },
    {
      "cell_type": "markdown",
      "metadata": {},
      "source": [
        "sphinx_gallery_thumbnail_number = 2\n\n"
      ]
    }
  ],
  "metadata": {
    "kernelspec": {
      "display_name": "Python 3",
      "language": "python",
      "name": "python3"
    },
    "language_info": {
      "codemirror_mode": {
        "name": "ipython",
        "version": 3
      },
      "file_extension": ".py",
      "mimetype": "text/x-python",
      "name": "python",
      "nbconvert_exporter": "python",
      "pygments_lexer": "ipython3",
      "version": "3.11.4"
    }
  },
  "nbformat": 4,
  "nbformat_minor": 0
}