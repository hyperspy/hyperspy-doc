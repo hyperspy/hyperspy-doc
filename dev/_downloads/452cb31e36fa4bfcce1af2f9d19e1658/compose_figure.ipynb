{
  "cells": [
    {
      "cell_type": "markdown",
      "metadata": {},
      "source": [
        "\n# Composing Figure\n\nThis example shows how to compose a figure using\n:func:`~.api.plot.plot_images` and :func:`~.api.plot.plot_spectra`\n"
      ]
    },
    {
      "cell_type": "code",
      "execution_count": null,
      "metadata": {
        "collapsed": false
      },
      "outputs": [],
      "source": [
        "import hyperspy.api as hs\nimport matplotlib.pyplot as plt\nimport numpy as np"
      ]
    },
    {
      "cell_type": "markdown",
      "metadata": {},
      "source": [
        "Create the 1D and 2D signals\n\n"
      ]
    },
    {
      "cell_type": "code",
      "execution_count": null,
      "metadata": {
        "collapsed": false
      },
      "outputs": [],
      "source": [
        "s2D_0 = hs.signals.Signal2D(np.arange(100).reshape(10, 10))\ns2D_1 = -s2D_0\n\ns1D_0 = hs.signals.Signal1D(np.arange(100))\ns1D_1 = -s1D_0"
      ]
    },
    {
      "cell_type": "markdown",
      "metadata": {},
      "source": [
        "Create an array of :external+matplotlib:class:`matplotlib.axis.Axis` using :external+matplotlib:func:`matplotlib.pyplot.subplots` \n\n"
      ]
    },
    {
      "cell_type": "code",
      "execution_count": null,
      "metadata": {
        "collapsed": false
      },
      "outputs": [],
      "source": [
        "fig, axs = plt.subplots(ncols=2, nrows=2)\nhs.plot.plot_images([s2D_0, s2D_1], ax=axs[:, 0], axes_decor=\"off\")\nhs.plot.plot_spectra([s1D_0, s1D_1], ax=axs[:, 1], style=\"mosaic\")"
      ]
    }
  ],
  "metadata": {
    "kernelspec": {
      "display_name": "Python 3",
      "language": "python",
      "name": "python3"
    },
    "language_info": {
      "codemirror_mode": {
        "name": "ipython",
        "version": 3
      },
      "file_extension": ".py",
      "mimetype": "text/x-python",
      "name": "python",
      "nbconvert_exporter": "python",
      "pygments_lexer": "ipython3",
      "version": "3.11.10"
    }
  },
  "nbformat": 4,
  "nbformat_minor": 0
}