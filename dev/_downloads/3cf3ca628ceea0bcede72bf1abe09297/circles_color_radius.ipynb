{
  "cells": [
    {
      "cell_type": "markdown",
      "metadata": {},
      "source": [
        "\n# Circle Markers with Radius Dependent Coloring\n\nThis example shows how to draw circle with the color of the circle scaling with\nthe radius of the circle\n"
      ]
    },
    {
      "cell_type": "markdown",
      "metadata": {},
      "source": [
        "Create a signal\n\n"
      ]
    },
    {
      "cell_type": "code",
      "execution_count": null,
      "metadata": {
        "collapsed": false
      },
      "outputs": [],
      "source": [
        "import hyperspy.api as hs\nimport matplotlib.pyplot as plt\nimport numpy as np\n\n# Create a Signal2D\nrng = np.random.default_rng(0)\ns = hs.signals.Signal2D(np.ones((25, 100, 100)))"
      ]
    },
    {
      "cell_type": "markdown",
      "metadata": {},
      "source": [
        "This first example shows how to draw arrows\n\n"
      ]
    },
    {
      "cell_type": "code",
      "execution_count": null,
      "metadata": {
        "collapsed": false
      },
      "outputs": [],
      "source": [
        "# Define the size of the circles\nsizes = rng.random((10, )) * 20 + 5\n\n# Define the position of the circles\noffsets = rng.random((10, 2)) * 100\n\nm = hs.plot.markers.Circles(\n    sizes=sizes,\n    offsets=offsets,\n    linewidth=2,\n    )\n\ns.plot()\ns.add_marker(m)"
      ]
    },
    {
      "cell_type": "markdown",
      "metadata": {},
      "source": [
        "<div class=\"alert alert-info\"><h4>Note</h4><p>Any changes to the marker made by setting :py:class:`matplotlib.collections.Collection`\n    attributes will not be saved when saving as ``hspy``/``zspy`` file.</p></div>\n\n"
      ]
    },
    {
      "cell_type": "code",
      "execution_count": null,
      "metadata": {
        "collapsed": false
      },
      "outputs": [],
      "source": [
        "# Set the color of the circles\nm.set_ScalarMappable_array(sizes.ravel() / 2)\n\n# Add corresponding colorbar\ncbar = m.plot_colorbar()\ncbar.set_label('Circle radius')\n\n# Set animated state of colorbar to support blitting\nanimated = plt.gcf().canvas.supports_blit\ncbar.ax.yaxis.set_animated(animated)\ncbar.solids.set_animated(animated)"
      ]
    },
    {
      "cell_type": "markdown",
      "metadata": {},
      "source": [
        "sphinx_gallery_thumbnail_number =\n\n"
      ]
    }
  ],
  "metadata": {
    "kernelspec": {
      "display_name": "Python 3",
      "language": "python",
      "name": "python3"
    },
    "language_info": {
      "codemirror_mode": {
        "name": "ipython",
        "version": 3
      },
      "file_extension": ".py",
      "mimetype": "text/x-python",
      "name": "python",
      "nbconvert_exporter": "python",
      "pygments_lexer": "ipython3",
      "version": "3.11.10"
    }
  },
  "nbformat": 4,
  "nbformat_minor": 0
}