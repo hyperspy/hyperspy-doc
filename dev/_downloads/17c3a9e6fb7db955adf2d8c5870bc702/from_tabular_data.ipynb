{
  "cells": [
    {
      "cell_type": "markdown",
      "metadata": {},
      "source": [
        "\n# Creates a signal1D from tabular data\n\nThis example creates a signal from tabular data, where the signal axis is given by an array\nof data values (the ``x`` column) and the tabular data are ordered in columns with 5 columns\ncontaining each 20 values and each column corresponding to a position in the\nnavigation space (linescan).\n"
      ]
    },
    {
      "cell_type": "code",
      "execution_count": null,
      "metadata": {
        "collapsed": false
      },
      "outputs": [],
      "source": [
        "import numpy as np\nimport hyperspy.api as hs"
      ]
    },
    {
      "cell_type": "markdown",
      "metadata": {},
      "source": [
        "Create a set of tabular data:\n\n"
      ]
    },
    {
      "cell_type": "code",
      "execution_count": null,
      "metadata": {
        "collapsed": false
      },
      "outputs": [],
      "source": [
        "x = np.linspace(0, 10, 20)\ny = np.random.default_rng().random((20, 5))"
      ]
    },
    {
      "cell_type": "markdown",
      "metadata": {},
      "source": [
        "Define the axes of the signal and then create the signal:\n\n"
      ]
    },
    {
      "cell_type": "code",
      "execution_count": null,
      "metadata": {
        "collapsed": false
      },
      "outputs": [],
      "source": [
        "axes = [\n    # length of the navigation axis\n    dict(size=y.shape[1], scale=0.1, name=\"Position\", units=\"nm\"),\n    # use values to define non-uniform axis for the signal axis\n    dict(axis=x, name=\"Energy\", units=\"eV\"),\n    ]\n\ns = hs.signals.Signal1D(y.T, axes=axes)"
      ]
    },
    {
      "cell_type": "markdown",
      "metadata": {},
      "source": [
        "Convert the non-uniform signal axis to a uniform axis, because non-uniform axes do not\nsupport all functionalities of HyperSpy.\nIn this case, the error introduced during conversion to uniform `scale` is negligeable.\n\n"
      ]
    },
    {
      "cell_type": "code",
      "execution_count": null,
      "metadata": {
        "collapsed": false
      },
      "outputs": [],
      "source": [
        "s.axes_manager.signal_axes[0].convert_to_uniform_axis()"
      ]
    },
    {
      "cell_type": "markdown",
      "metadata": {},
      "source": [
        "Set title of the dataset and label for the data axis:\n\n"
      ]
    },
    {
      "cell_type": "code",
      "execution_count": null,
      "metadata": {
        "collapsed": false
      },
      "outputs": [],
      "source": [
        "s.metadata.set_item(\"General.title\", \"Random test data\")\ns.metadata.set_item(\"Signal.quantity\", \"Intensity (counts)\")"
      ]
    },
    {
      "cell_type": "markdown",
      "metadata": {},
      "source": [
        "Plot the dataset:\n\n"
      ]
    },
    {
      "cell_type": "code",
      "execution_count": null,
      "metadata": {
        "collapsed": false
      },
      "outputs": [],
      "source": [
        "s.plot()\n# Choose the second figure as gallery thumbnail:\n# sphinx_gallery_thumbnail_number = 2"
      ]
    }
  ],
  "metadata": {
    "kernelspec": {
      "display_name": "Python 3",
      "language": "python",
      "name": "python3"
    },
    "language_info": {
      "codemirror_mode": {
        "name": "ipython",
        "version": 3
      },
      "file_extension": ".py",
      "mimetype": "text/x-python",
      "name": "python",
      "nbconvert_exporter": "python",
      "pygments_lexer": "ipython3",
      "version": "3.11.10"
    }
  },
  "nbformat": 4,
  "nbformat_minor": 0
}