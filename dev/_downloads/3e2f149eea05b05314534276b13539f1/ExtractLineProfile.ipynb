{
  "cells": [
    {
      "cell_type": "markdown",
      "metadata": {},
      "source": [
        "\n# Extract line profile from image interactively\n\nInteractively extract a line profile (with a certain width) from an image using\n:py:class:`~.api.roi.Line2DROI`. Use :func:`~.api.plot.plot_spectra` to plot several\nline profiles on the same figure. Save a profile data as ``msa`` file.\n"
      ]
    },
    {
      "cell_type": "markdown",
      "metadata": {},
      "source": [
        ".. figure::  ../../_static/interactive_profiles.gif\n    :align:   center\n    :width:   1024\n    :alt:     Interactive example gif of region of interest and associated profile plots.\n\n    Extracting line profiles and interactive plotting.\n\n"
      ]
    },
    {
      "cell_type": "markdown",
      "metadata": {},
      "source": [
        "Initialize image data as HyperSpy signal:\n\n"
      ]
    },
    {
      "cell_type": "code",
      "execution_count": null,
      "metadata": {
        "collapsed": false
      },
      "outputs": [],
      "source": [
        "import hyperspy.api as hs\nimport holospy as holo\nim0 = holo.data.Fe_needle_reference_hologram()\nim1 = holo.data.Fe_needle_hologram()"
      ]
    },
    {
      "cell_type": "markdown",
      "metadata": {},
      "source": [
        "Intialize Line-ROI from position (400,250) to position (220,600) of width 5\nin calibrated axes units (in the current example equal to the image pixels):\n\n"
      ]
    },
    {
      "cell_type": "code",
      "execution_count": null,
      "metadata": {
        "collapsed": false
      },
      "outputs": [],
      "source": [
        "line_roi = hs.roi.Line2DROI(400, 250, 220, 600, 5)"
      ]
    },
    {
      "cell_type": "markdown",
      "metadata": {},
      "source": [
        "Extract data along the ROI as new signal by \"slicing\" the signal and plot the\nprofile:\n\n"
      ]
    },
    {
      "cell_type": "code",
      "execution_count": null,
      "metadata": {
        "collapsed": false
      },
      "outputs": [],
      "source": [
        "profile = line_roi(im0)\nprofile.plot()"
      ]
    },
    {
      "cell_type": "markdown",
      "metadata": {},
      "source": [
        "Slicing of the signal is not interactive. If you want to modify the line along\nwhich the profile is extracted, you can plot the image and display the ROI \ninteractively (creates a new signal object). You can even display the same ROI\non a second image to make sure that a profile is well placed on both images:\n\n"
      ]
    },
    {
      "cell_type": "code",
      "execution_count": null,
      "metadata": {
        "collapsed": false
      },
      "outputs": [],
      "source": [
        "im0.plot()\nprofile1 = line_roi.interactive(im0, color='green')\nim1.plot()\nprofile2 = line_roi.interactive(im1, color='green')"
      ]
    },
    {
      "cell_type": "markdown",
      "metadata": {},
      "source": [
        "You can then drag and drop the ends of the ROI to adjust the placement.\n\nIf you want to later update the ROI initialization with the modified parameters,\nyou can print these:\n\n"
      ]
    },
    {
      "cell_type": "code",
      "execution_count": null,
      "metadata": {
        "collapsed": false
      },
      "outputs": [],
      "source": [
        "print(tuple(line_roi))"
      ]
    },
    {
      "cell_type": "markdown",
      "metadata": {},
      "source": [
        "You can now directly access the data of the profile objects, e.g. to plot both\nprofiles in a single plot:\n\n"
      ]
    },
    {
      "cell_type": "code",
      "execution_count": null,
      "metadata": {
        "collapsed": false
      },
      "outputs": [],
      "source": [
        "hs.plot.plot_spectra([profile1, profile2])\n# Choose the fourth figure as gallery thumbnail:\n# sphinx_gallery_thumbnail_number = 4"
      ]
    },
    {
      "cell_type": "markdown",
      "metadata": {},
      "source": [
        "Since the profile is a signal object, you can use any other functionality provided\nby hyperspy, e.g. to save a profile as `.msa` text file:\n\n"
      ]
    },
    {
      "cell_type": "code",
      "execution_count": null,
      "metadata": {
        "collapsed": false
      },
      "outputs": [],
      "source": [
        "profile1.save('extracted-line-profile.msa', format='XY')"
      ]
    }
  ],
  "metadata": {
    "kernelspec": {
      "display_name": "Python 3",
      "language": "python",
      "name": "python3"
    },
    "language_info": {
      "codemirror_mode": {
        "name": "ipython",
        "version": 3
      },
      "file_extension": ".py",
      "mimetype": "text/x-python",
      "name": "python",
      "nbconvert_exporter": "python",
      "pygments_lexer": "ipython3",
      "version": "3.11.7"
    }
  },
  "nbformat": 4,
  "nbformat_minor": 0
}