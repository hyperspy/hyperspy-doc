{
  "cells": [
    {
      "cell_type": "markdown",
      "metadata": {},
      "source": [
        "\n# Create Map from CircleROI in signal space\n\nUse the :func:`~.api.plot.plot_roi_map` function to create interactive maps defined\nfrom a :class:`~.api.roi.CircleROI` in signal space.\n"
      ]
    },
    {
      "cell_type": "code",
      "execution_count": null,
      "metadata": {
        "collapsed": false
      },
      "outputs": [],
      "source": [
        "import hyperspy.api as hs\nimport numpy as np"
      ]
    },
    {
      "cell_type": "markdown",
      "metadata": {},
      "source": [
        "Create a signal:\n\n"
      ]
    },
    {
      "cell_type": "code",
      "execution_count": null,
      "metadata": {
        "collapsed": false
      },
      "outputs": [],
      "source": [
        "rng = np.random.default_rng(0)\ndata = rng.random(size=(100, 100, 50, 50))\ns = hs.signals.Signal2D(data)"
      ]
    },
    {
      "cell_type": "markdown",
      "metadata": {},
      "source": [
        "Add 2 ROIs in signal space and map the corresponding signal using :func:`~.api.plot.plot_roi_map`.\nThe ROIs are added to the plot of the signal and by default a\n:class:`~.api.roi.RectangularROI` is used\n\n"
      ]
    },
    {
      "cell_type": "code",
      "execution_count": null,
      "metadata": {
        "collapsed": false
      },
      "outputs": [],
      "source": [
        "s.plot()\nroi = hs.plot.plot_roi_map(s, rois=2)"
      ]
    },
    {
      "cell_type": "markdown",
      "metadata": {},
      "source": [
        "Same as above but with using :class:`~.api.roi.CircleROI` with predefined position:\n\n"
      ]
    },
    {
      "cell_type": "code",
      "execution_count": null,
      "metadata": {
        "collapsed": false
      },
      "outputs": [],
      "source": [
        "roi1 = hs.roi.CircleROI(cx=25, cy=25, r=5)\nroi2 = hs.roi.CircleROI(cx=25, cy=25, r=15, r_inner=10)\ns.plot()\nroi = hs.plot.plot_roi_map(s, rois=[roi1, roi2])\n# Choose this figure as gallery thumbnail:\n# sphinx_gallery_thumbnail_number = 6"
      ]
    }
  ],
  "metadata": {
    "kernelspec": {
      "display_name": "Python 3",
      "language": "python",
      "name": "python3"
    },
    "language_info": {
      "codemirror_mode": {
        "name": "ipython",
        "version": 3
      },
      "file_extension": ".py",
      "mimetype": "text/x-python",
      "name": "python",
      "nbconvert_exporter": "python",
      "pygments_lexer": "ipython3",
      "version": "3.11.9"
    }
  },
  "nbformat": 4,
  "nbformat_minor": 0
}